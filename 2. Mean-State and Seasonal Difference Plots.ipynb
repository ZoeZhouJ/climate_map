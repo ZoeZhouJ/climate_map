{
 "cells": [
  {
   "cell_type": "markdown",
   "id": "8dfa7d1e-7ba2-43ab-8709-0aec6eebc722",
   "metadata": {},
   "source": [
    "# 2. Mapping: Mean-State and Seasonal Difference Plots\n",
    "### Authors\n",
    "\n",
    "Samantha Stevenson sstevenson@ucsb.edu\n",
    "\n",
    "### Table of Contents\n",
    "\n",
    "[Goals](#purpose)\n",
    "\n",
    "[Import Packages, Define Time Periods and Regions](#setup)\n",
    "\n",
    "[Read in Data and Concatenate Data Arrays](#data_io)\n",
    "\n",
    "[Calculate Time Averages Over Specified Periods, Seasons](#time_avg)\n",
    "\n",
    "[Plot the Mean State: Specified Region](#map)\n"
   ]
  },
  {
   "cell_type": "markdown",
   "id": "76c4c40b-2b12-4e06-a9ad-53eeb5d58aea",
   "metadata": {},
   "source": [
    "<a id='purpose'></a> \n",
    "## **Goals**\n",
    "\n",
    "In this tutorial, we will be creating difference maps to show how patterns of surface air temperature have changed over time. This tutorial is an extension of tutorial 1 in this repo. New skills encountered in this tutorial:\n",
    "\n",
    "1. _Concatenating_ data from multiple netCDF files\n",
    "\n",
    "2. Plotting data from different _seasons_\n",
    "\n",
    "\n",
    "We'll be working with data from MULTIPLE files today! Direct links are below:\n",
    "\n",
    "#### [File 1 for Today: Historical tas from CanESM5 member r10i1p1f1](https://drive.google.com/file/d/1TaWe1hs6Lgr-AEM1y74xGA3EBaECyMMV/view?usp=sharing)\n",
    "\n",
    "#### [File 2 for Today: SSP370 tas from CanESM5 member r10i1p1f1](https://drive.google.com/file/d/1WDAWoepRTliqkFmQMF9D8jF0e_FwA2KG/view?usp=drive_link)\n",
    "\n",
    "These files can also be downloaded from the [Earth System Grid Federation MetaGrid site](https://aims2.llnl.gov) (see the [Web download tutorial](https://climate-datalab.org/data-download-from-web/) if you need more information on how to do this)."
   ]
  },
  {
   "cell_type": "markdown",
   "id": "fe8a713a-bdc9-4619-aee2-2823522ef86b",
   "metadata": {},
   "source": [
    "<a id='setup'></a> \n",
    "## **Import Packages, Define Time Periods and Regions**\n",
    "\n",
    "We'll import the necessary packages first, which are the same as the ones we used in tutorial 1:"
   ]
  },
  {
   "cell_type": "code",
   "execution_count": 2,
   "id": "163693fd-d8ea-41f2-9b96-cf75f0db5f51",
   "metadata": {},
   "outputs": [],
   "source": [
    "import xarray as xr\n",
    "import matplotlib.pyplot as plt\n",
    "import numpy as np\n",
    "import cartopy.crs as ccrs\n",
    "import cartopy.feature as cfeature"
   ]
  },
  {
   "cell_type": "markdown",
   "id": "8daa7934-2ec3-447a-9db1-bcf292505ba4",
   "metadata": {},
   "source": [
    "Before we go to the step of reading in the data, we'll *first* set up some _parameters_ that the rest of the notebook will use. It's good to set these up front, where they're hard to miss! We'll specify two arrays, which hold:\n",
    "\n",
    "- our _region of interest_ for plotting: this is specified in the format [minimum latitude, maximum latitude, minimum longitude, maximum longitude] but you can change this around if you want\n",
    "- our _time periods of interest_ which will be used later for averaging: this is specified in the format [start year, end year] with one array for each time period\n",
    "\n",
    "**NOTE: specifying these as arrays is not required!** If you're more comfortable with \"hard coding\" the numbers in, that's fine - we're just including this here to get you used to some coding best practices.\n",
    "\n",
    "In the example below, the region of interest is set to cover the continental United States, and two time periods are defined:\n",
    "- Early (`per_early`): the last 50 years up till now\n",
    "- Late (`per_late`): the next 50 years"
   ]
  },
  {
   "cell_type": "code",
   "execution_count": 4,
   "id": "42e15307-07c9-4925-9753-43590d613880",
   "metadata": {},
   "outputs": [],
   "source": [
    "# Array with region of interest\n",
    "# [lat_min, lat_max, lon_min, lon_max]\n",
    "region = [25, 51, 230, 295]\n",
    "\n",
    "# Array with time periods of interest\n",
    "# [starting year, ending year]\n",
    "per_early = [1975, 2025]\n",
    "per_late = [2026, 2075]"
   ]
  },
  {
   "cell_type": "markdown",
   "id": "b96a8658-a8d2-4896-a969-3dca9a7a9a14",
   "metadata": {},
   "source": [
    "<a id='data_io'></a> \n",
    "## **Read in Data and Concatenate Data Arrays**\n",
    "\n",
    "We next need to read in our data. But now we'll do it slightly differently than in tutorial 1, since we need to read in data from multiple files.\n",
    "\n",
    "#### Why are multiple files necessary?\n",
    "\n",
    "Take a look at the filenames for the two files provided here:\n",
    "- tas_Amon_CanESM5_historical_r10i1p1f1_gn_185001-201412.nc\n",
    "- tas_Amon_CanESM5_ssp370_r10i1p1f1_gn_201501-210012.nc\n",
    "\n",
    "The date strings at the end of the filenames tell you what years are included in each (for more information on the filenames, also refer to our [filename decoder](http://www.climate-datalab.org/filename-decoder)). The historical data file contains years 1850-2014, and the future projection (here, SSP3-7.0) contains years 2015-2100. Since we're trying to average data over the period 1975-2025, that means that we need information from both data files! And of course, the future part of the record is contained entirely in the second data file.\n",
    "\n",
    "#### Concatenation: xarray `concat`\n",
    "The easiest way to deal with this is to read in BOTH data files as xarray Datasets, then concatenate them. xarray has a built-in function to handle this, called [concat](https://docs.xarray.dev/en/stable/generated/xarray.concat.html):\n"
   ]
  },
  {
   "cell_type": "code",
   "execution_count": 6,
   "id": "6c0e9cca-0b1b-4e84-a0b9-6c6d975248c6",
   "metadata": {},
   "outputs": [],
   "source": [
    "# Read in data as xarray Dataset\n",
    "# historical\n",
    "data_hist = xr.open_dataset('/Users/samstevenson/Box Sync/Climate_DataLab/tas_Amon_CanESM5_historical_r10i1p1f1_gn_185001-201412.nc')\n",
    "\n",
    "#ssp370\n",
    "data_ssp = xr.open_dataset('/Users/samstevenson/Box Sync/Climate_DataLab/tas_Amon_CanESM5_ssp370_r10i1p1f1_gn_201501-210012.nc')\n",
    "\n",
    "# concatenate\n",
    "data = xr.concat([data_hist, data_ssp], dim=\"time\")"
   ]
  },
  {
   "cell_type": "markdown",
   "id": "f994f785-425b-4117-9f5d-eb6769d7151a",
   "metadata": {},
   "source": [
    "To make sure that the concat function did what it's supposed to do, we can do some printing of the various datasets:"
   ]
  },
  {
   "cell_type": "code",
   "execution_count": 9,
   "id": "2be9dcd8-893e-4db5-9e0f-103ecb40830f",
   "metadata": {},
   "outputs": [
    {
     "name": "stdout",
     "output_type": "stream",
     "text": [
      "Historical data file:\n",
      "<xarray.Dataset>\n",
      "Dimensions:    (time: 1980, bnds: 2, lat: 64, lon: 128)\n",
      "Coordinates:\n",
      "  * time       (time) object 1850-01-16 12:00:00 ... 2014-12-16 12:00:00\n",
      "  * lat        (lat) float64 -87.86 -85.1 -82.31 -79.53 ... 82.31 85.1 87.86\n",
      "  * lon        (lon) float64 0.0 2.812 5.625 8.438 ... 348.8 351.6 354.4 357.2\n",
      "    height     float64 ...\n",
      "Dimensions without coordinates: bnds\n",
      "Data variables:\n",
      "    time_bnds  (time, bnds) object ...\n",
      "    lat_bnds   (lat, bnds) float64 ...\n",
      "    lon_bnds   (lon, bnds) float64 ...\n",
      "    tas        (time, lat, lon) float32 ...\n",
      "Attributes: (12/53)\n",
      "    CCCma_model_hash:            55f484f90aff0e32c5a8e92a42c6b9ae7ffe6224\n",
      "    CCCma_parent_runid:          rc3.1-pictrl\n",
      "    CCCma_pycmor_hash:           33c30511acc319a98240633965a04ca99c26427e\n",
      "    CCCma_runid:                 rc3.1-his10\n",
      "    Conventions:                 CF-1.7 CMIP-6.2\n",
      "    YMDH_branch_time_in_child:   1850:01:01:00\n",
      "    ...                          ...\n",
      "    tracking_id:                 hdl:21.14100/5ed65f32-a352-4bd1-83a4-c659b4f...\n",
      "    variable_id:                 tas\n",
      "    variant_label:               r10i1p1f1\n",
      "    version:                     v20190429\n",
      "    license:                     CMIP6 model data produced by The Government ...\n",
      "    cmor_version:                3.4.0\n"
     ]
    }
   ],
   "source": [
    "# Print data\n",
    "print(\"Historical data file:\")\n",
    "print(data_hist)"
   ]
  },
  {
   "cell_type": "markdown",
   "id": "9e2c201f-d17d-4030-beb1-6a31959f53ff",
   "metadata": {},
   "source": [
    "From this, we see that the historical data file contains information for 1980 months, which makes sense for a file that's supposed to contain monthly averages over 165 years.\n",
    "\n",
    "We can do the same thing for the SSP370 data file:"
   ]
  },
  {
   "cell_type": "code",
   "execution_count": 10,
   "id": "2caf885b-6bc3-4732-bc95-0d17a46b5ca1",
   "metadata": {},
   "outputs": [
    {
     "name": "stdout",
     "output_type": "stream",
     "text": [
      "SSP370 data file:\n",
      "<xarray.Dataset>\n",
      "Dimensions:    (time: 1032, bnds: 2, lat: 64, lon: 128)\n",
      "Coordinates:\n",
      "  * time       (time) object 2015-01-16 12:00:00 ... 2100-12-16 12:00:00\n",
      "  * lat        (lat) float64 -87.86 -85.1 -82.31 -79.53 ... 82.31 85.1 87.86\n",
      "  * lon        (lon) float64 0.0 2.812 5.625 8.438 ... 348.8 351.6 354.4 357.2\n",
      "    height     float64 ...\n",
      "Dimensions without coordinates: bnds\n",
      "Data variables:\n",
      "    time_bnds  (time, bnds) object ...\n",
      "    lat_bnds   (lat, bnds) float64 ...\n",
      "    lon_bnds   (lon, bnds) float64 ...\n",
      "    tas        (time, lat, lon) float32 ...\n",
      "Attributes: (12/53)\n",
      "    CCCma_model_hash:            24718c8346665b218729640ffe79d263b76456c4\n",
      "    CCCma_parent_runid:          rc3.1-his10\n",
      "    CCCma_pycmor_hash:           33c30511acc319a98240633965a04ca99c26427e\n",
      "    CCCma_runid:                 rc3.1-s7010\n",
      "    Conventions:                 CF-1.7 CMIP-6.2\n",
      "    YMDH_branch_time_in_child:   2015:01:01:00\n",
      "    ...                          ...\n",
      "    tracking_id:                 hdl:21.14100/7a37f156-7c1b-4de1-a405-736f636...\n",
      "    variable_id:                 tas\n",
      "    variant_label:               r10i1p1f1\n",
      "    version:                     v20190429\n",
      "    license:                     CMIP6 model data produced by The Government ...\n",
      "    cmor_version:                3.4.0\n"
     ]
    }
   ],
   "source": [
    "print(\"SSP370 data file:\")\n",
    "print(data_ssp)"
   ]
  },
  {
   "cell_type": "markdown",
   "id": "55e5b7d5-df37-41b3-b6bd-29e0a572b5e3",
   "metadata": {},
   "source": [
    "For comparison, the concatenated data file has a longer time dimension, that's equal to the sum of the lengths of the `time` coordinates in the historical and SSP370 files:"
   ]
  },
  {
   "cell_type": "code",
   "execution_count": 11,
   "id": "0a297f50-afbd-4e79-a0c9-d3d937cca4d6",
   "metadata": {},
   "outputs": [
    {
     "name": "stdout",
     "output_type": "stream",
     "text": [
      "Concatenated data file:\n",
      "<xarray.Dataset>\n",
      "Dimensions:    (time: 3012, bnds: 2, lat: 64, lon: 128)\n",
      "Coordinates:\n",
      "  * time       (time) object 1850-01-16 12:00:00 ... 2100-12-16 12:00:00\n",
      "  * lat        (lat) float64 -87.86 -85.1 -82.31 -79.53 ... 82.31 85.1 87.86\n",
      "  * lon        (lon) float64 0.0 2.812 5.625 8.438 ... 348.8 351.6 354.4 357.2\n",
      "    height     float64 2.0\n",
      "Dimensions without coordinates: bnds\n",
      "Data variables:\n",
      "    time_bnds  (time, bnds) object 1850-01-01 00:00:00 ... 2101-01-01 00:00:00\n",
      "    lat_bnds   (time, lat, bnds) float64 -90.0 -86.58 -86.58 ... 86.58 90.0\n",
      "    lon_bnds   (time, lon, bnds) float64 -1.406 1.406 1.406 ... 355.8 358.6\n",
      "    tas        (time, lat, lon) float32 250.9 250.7 250.4 ... 275.7 275.7 275.7\n",
      "Attributes: (12/53)\n",
      "    CCCma_model_hash:            55f484f90aff0e32c5a8e92a42c6b9ae7ffe6224\n",
      "    CCCma_parent_runid:          rc3.1-pictrl\n",
      "    CCCma_pycmor_hash:           33c30511acc319a98240633965a04ca99c26427e\n",
      "    CCCma_runid:                 rc3.1-his10\n",
      "    Conventions:                 CF-1.7 CMIP-6.2\n",
      "    YMDH_branch_time_in_child:   1850:01:01:00\n",
      "    ...                          ...\n",
      "    tracking_id:                 hdl:21.14100/5ed65f32-a352-4bd1-83a4-c659b4f...\n",
      "    variable_id:                 tas\n",
      "    variant_label:               r10i1p1f1\n",
      "    version:                     v20190429\n",
      "    license:                     CMIP6 model data produced by The Government ...\n",
      "    cmor_version:                3.4.0\n"
     ]
    }
   ],
   "source": [
    "print(\"Concatenated data file:\")\n",
    "print(data)"
   ]
  },
  {
   "cell_type": "markdown",
   "id": "002bb73f-1f1e-4d77-917d-d369383afae9",
   "metadata": {},
   "source": [
    "<a id='time_avg'></a> \n",
    "## **Calculate Time Averages Over Specified Periods, Seasons**"
   ]
  },
  {
   "cell_type": "markdown",
   "id": "5d7fc0a2-701c-4395-a1c1-6dc22628c4c9",
   "metadata": {},
   "source": [
    "Now we can proceed with the rest of our analysis, following the same steps as before!\n",
    "\n",
    "We use the `.sel` and `slice` commands to create subsetted data over the two time periods we're interested in. \n",
    "\n",
    "**Note: here we specify the inputs to slice using the `per_early` and `per_late` arrays we defined at the beginning!**\n",
    "\n",
    "Then we just average over the time dimension to get our two-dimensional datasets to use in the plot!"
   ]
  },
  {
   "cell_type": "code",
   "execution_count": 12,
   "id": "b7bf6bc1-13f7-424f-b72c-62a155521cab",
   "metadata": {},
   "outputs": [],
   "source": [
    "# Select data within the ranges of years specified above\n",
    "\n",
    "# Early period\n",
    "data_early = data.sel(time=slice(str(per_early[0])+\"-01-01\", str(per_early[1])+\"-12-31\"))\n",
    "\n",
    "# Late period\n",
    "data_late = data.sel(time=slice(str(per_late[0])+\"-01-01\", str(per_late[1])+\"-12-31\"))"
   ]
  },
  {
   "cell_type": "code",
   "execution_count": 15,
   "id": "46d95b46-6dc9-4ee2-b16c-9dfa28b99c29",
   "metadata": {},
   "outputs": [],
   "source": [
    "# Calculate time averages\n",
    "data_early_mn = data_early.mean(dim=\"time\")\n",
    "data_late_mn = data_late.mean(dim=\"time\")"
   ]
  },
  {
   "cell_type": "code",
   "execution_count": null,
   "id": "6c19c0ad-1232-42b2-9605-9e97220be8fc",
   "metadata": {},
   "outputs": [],
   "source": []
  },
  {
   "cell_type": "code",
   "execution_count": null,
   "id": "8c666a27-625d-4366-9243-ef09510e5aed",
   "metadata": {},
   "outputs": [],
   "source": []
  }
 ],
 "metadata": {
  "kernelspec": {
   "display_name": "Python 3 (ipykernel)",
   "language": "python",
   "name": "python3"
  },
  "language_info": {
   "codemirror_mode": {
    "name": "ipython",
    "version": 3
   },
   "file_extension": ".py",
   "mimetype": "text/x-python",
   "name": "python",
   "nbconvert_exporter": "python",
   "pygments_lexer": "ipython3",
   "version": "3.8.13"
  }
 },
 "nbformat": 4,
 "nbformat_minor": 5
}
